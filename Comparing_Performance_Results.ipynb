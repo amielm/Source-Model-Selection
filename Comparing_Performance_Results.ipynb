{
  "nbformat": 4,
  "nbformat_minor": 0,
  "metadata": {
    "colab": {
      "name": "Comparing Performance Results.ipynb",
      "provenance": [],
      "collapsed_sections": [
        "5NwGvfEcf0Y8",
        "XDBqG1cfkmVt"
      ],
      "toc_visible": true
    },
    "kernelspec": {
      "name": "python3",
      "display_name": "Python 3"
    }
  },
  "cells": [
    {
      "cell_type": "markdown",
      "metadata": {
        "id": "ZUgW858TxT9k",
        "colab_type": "text"
      },
      "source": [
        "# Downloading data and the encodings file"
      ]
    },
    {
      "cell_type": "code",
      "metadata": {
        "id": "AR0JqnjoeHsJ",
        "colab_type": "code",
        "colab": {}
      },
      "source": [
        "!git clone https://github.com/hfawaz/bigdata18.git\n",
        "!wget http://supplementarymaterial.xyz/bigdata2018/pre-trained-models.tar.gz\n",
        "!tar -xzvf pre-trained-models.tar.gz\n",
        "!wget https://www.cs.ucr.edu/~eamonn/time_series_data/UCR_TS_Archive_2015.zip\n",
        "!unzip -P attempttoclassify UCR_TS_Archive_2015.zip\n",
        "!pip install gdown\n",
        "!gdown https://drive.google.com/uc?id=1C_11YFbtjlaFUg_XV8xHU8-qWCa-dC4W"
      ],
      "execution_count": 0,
      "outputs": []
    },
    {
      "cell_type": "code",
      "metadata": {
        "id": "ZkqcXagLe1uI",
        "colab_type": "code",
        "colab": {}
      },
      "source": [
        "import numpy as np\n",
        "import pandas as pd\n",
        "from os import listdir, walk\n",
        "from os.path import join\n",
        "from tqdm import tqdm\n",
        "from sklearn.model_selection import train_test_split\n",
        "from matplotlib import pyplot as plt\n",
        "from itertools import product\n",
        "import pickle\n",
        "from scipy.stats import spearmanr, pearsonr, kendalltau\n",
        "from scipy.spatial.distance import cityblock\n",
        "from scipy.spatial import distance\n",
        "from scipy.stats import binom_test\n",
        "from sklearn.metrics import calinski_harabasz_score,silhouette_score, davies_bouldin_score\n",
        "from sklearn.metrics.pairwise import cosine_distances\n",
        "from scipy.stats import wilcoxon"
      ],
      "execution_count": 0,
      "outputs": []
    },
    {
      "cell_type": "code",
      "metadata": {
        "id": "nlNzRTG2eN7n",
        "colab_type": "code",
        "colab": {}
      },
      "source": [
        "# function to calculate MRR\n",
        "def mrr(labels, ranking, is_ranked = False):\n",
        "    if not is_ranked:\n",
        "        ranking = ranking.argsort(axis=1)\n",
        "    rr = np.array([1/(np.argwhere(v==ranking[k,:])[0][0]+1) for k, v in enumerate(labels)])\n",
        "    return rr.mean()\n",
        "# function to calculate the rank of the optimal source model\n",
        "def ranks(labels, ranking, is_ranked = False):\n",
        "    if not is_ranked:\n",
        "        ranking = ranking.argsort(axis=1)\n",
        "    ranks = np.array([np.argwhere(v==ranking[k,:])[0][0]+1 for k, v in enumerate(labels)])\n",
        "    return ranks"
      ],
      "execution_count": 0,
      "outputs": []
    },
    {
      "cell_type": "markdown",
      "metadata": {
        "id": "EWA46d4X92tH",
        "colab_type": "text"
      },
      "source": [
        "# Reading results from IDS - Fawaz et. al. (https://github.com/hfawaz/bigdata18)"
      ]
    },
    {
      "cell_type": "code",
      "metadata": {
        "id": "esT5lx-S0viM",
        "colab_type": "code",
        "colab": {}
      },
      "source": [
        "similarity_lists = pd.read_csv(\"bigdata18/results/similar_datasets.csv\", index_col=0)\n",
        "\n",
        "sorted_unique_datasets = similarity_lists.index.unique().sort_values()\n",
        "label_encoder_dict = dict(zip(sorted_unique_datasets.to_list(), range(len(sorted_unique_datasets))))\n",
        "\n",
        "ranked_similarity_IDS = np.vectorize(label_encoder_dict.get)(similarity_lists)\n",
        "\n",
        "transfer_results = pd.read_csv(\"bigdata18/results/df_transfer_acc.csv\", index_col=0)\n",
        "\n",
        "# The paper says that the rows are the source dataset. \n",
        "# Since we want to find the best dataset to transfer from we do argmax on the rows.\n",
        "transfer_results = transfer_results.sort_index(axis=0).sort_index(axis=1)\n",
        "transfer_results = transfer_results.to_numpy()\n",
        "\n",
        "best_source = transfer_results.argmax(axis=0)"
      ],
      "execution_count": 0,
      "outputs": []
    },
    {
      "cell_type": "markdown",
      "metadata": {
        "id": "ugDa04qD1v6h",
        "colab_type": "text"
      },
      "source": [
        "# Load encodings from file"
      ]
    },
    {
      "cell_type": "code",
      "metadata": {
        "id": "Ws1y3z86IqeC",
        "colab_type": "code",
        "colab": {}
      },
      "source": [
        "load_path = join(\"encoding_transfer.pkl\")\n",
        "with open(load_path, \"rb\") as file:\n",
        "    encodings_with_labels= pickle.load(file)"
      ],
      "execution_count": 0,
      "outputs": []
    },
    {
      "cell_type": "markdown",
      "metadata": {
        "id": "PvshbJNR15sZ",
        "colab_type": "text"
      },
      "source": [
        "# Calculate the apriori dissimilarity using MSC with cosine distance"
      ]
    },
    {
      "cell_type": "code",
      "metadata": {
        "id": "1o8IxWcC10TF",
        "colab_type": "code",
        "colab": {}
      },
      "source": [
        "# may take a few minutes\n",
        "apriori_dissimilarity = np.ones(encodings_with_labels.shape)*(10**10)\n",
        "for i in range(encodings_with_labels.shape[0]):\n",
        "    for j in range(encodings_with_labels.shape[1]):\n",
        "        if i!=j:\n",
        "            apriori_dissimilarity[i, j] = -silhouette_score(encodings_with_labels[i, j][0],\n",
        "                                                            encodings_with_labels[i, j][1], metric=\"cosine\")"
      ],
      "execution_count": 0,
      "outputs": []
    },
    {
      "cell_type": "code",
      "metadata": {
        "id": "N1xQ9kNrKNjn",
        "colab_type": "code",
        "colab": {}
      },
      "source": [
        "# note that we deleted the transfer of a model to itself because it was set as 0 in the transfer_results file, this could have dramatic effect on results...\n",
        "transfer_results_without_self_transfer = np.array([np.delete(transfer_results[:,i],i,axis=0) for i in range(transfer_results.shape[1])])\n",
        "transfer_results_mean_per_target = transfer_results_without_self_transfer.mean(axis=1)"
      ],
      "execution_count": 0,
      "outputs": []
    },
    {
      "cell_type": "code",
      "metadata": {
        "id": "h53nw1t14Uv1",
        "colab_type": "code",
        "outputId": "3abcb871-0e0d-41f3-c2bc-0ca063c14528",
        "colab": {
          "base_uri": "https://localhost:8080/",
          "height": 70
        }
      },
      "source": [
        "print(\"MRR of Random Source Model Selection: \",np.mean(1/(np.arange(84)+1)))\n",
        "print(\"MRR of IDS: \", mrr(best_source, ranked_similarity_IDS, is_ranked = True))\n",
        "print(\"MRR of our method: \", mrr(best_source, apriori_dissimilarity.T))"
      ],
      "execution_count": 15,
      "outputs": [
        {
          "output_type": "stream",
          "text": [
            "MRR of Random Source Model Selection:  0.05969015517363009\n",
            "MRR of IDS:  0.11626114810805344\n",
            "MRR of our method:  0.11496363721744161\n"
          ],
          "name": "stdout"
        }
      ]
    },
    {
      "cell_type": "code",
      "metadata": {
        "id": "5Yr6TcAQ48nI",
        "colab_type": "code",
        "outputId": "470b1ec9-671a-466b-f8d5-ccbdd70dfff4",
        "colab": {
          "base_uri": "https://localhost:8080/",
          "height": 70
        }
      },
      "source": [
        "our_top1_hits = np.sum(transfer_results.argmax(axis=0) == apriori_dissimilarity.T.argmin(axis=1))\n",
        "IDS_top1_hits = np.sum(transfer_results.argmax(axis=0) == ranked_similarity_IDS[:,0])\n",
        "N = transfer_results.shape[0]\n",
        "print(\"Number of Wins of our method: {}, Accuracy: {:.1f}, P-value: {:.6f}\".format(\n",
        "       our_top1_hits,\n",
        "      100*our_top1_hits/N,\n",
        "      binom_test(our_top1_hits,N,1/(N-1))\n",
        "      ))\n",
        "print(\"Number of Wins of IDS: {}, Accuracy: {:.1f}, P-value: {:.6f}\".format(\n",
        "    IDS_top1_hits,\n",
        "    100*IDS_top1_hits/N,\n",
        "     binom_test(IDS_top1_hits,N,1/(N-1))\n",
        "))\n",
        "print(\"Number of wins Random: {}, Accuracy: {:.1f}, P-value: {:.6f}\".format(\n",
        "    85*1/(N-1),\n",
        "    100*1/(N-1),\n",
        "    binom_test(1,N,1/(N-1))))"
      ],
      "execution_count": 16,
      "outputs": [
        {
          "output_type": "stream",
          "text": [
            "Number of Wins of our method: 6, Accuracy: 7.1, P-value: 0.000558\n",
            "Number of Wins of IDS: 4, Accuracy: 4.7, P-value: 0.018982\n",
            "Number of wins Random: 1.0119047619047619, Accuracy: 1.2, P-value: 1.000000\n"
          ],
          "name": "stdout"
        }
      ]
    },
    {
      "cell_type": "code",
      "metadata": {
        "id": "B19rZZ6ym2X4",
        "colab_type": "code",
        "outputId": "783b06f7-d269-4412-f5bb-22c72ff22fc7",
        "colab": {
          "base_uri": "https://localhost:8080/",
          "height": 34
        }
      },
      "source": [
        "ranks_of_best_model_SMS = ranks(best_source, apriori_dissimilarity.T)\n",
        "ranks_of_best_model_IDS = ranks(best_source, ranked_similarity_IDS, is_ranked = True)\n",
        "print(\"The difference between our method and IDS isn't statistically significant: \" , wilcoxon(ranks_of_best_model_SMS, ranks_of_best_model_IDS))"
      ],
      "execution_count": 18,
      "outputs": [
        {
          "output_type": "stream",
          "text": [
            "The difference between our method and IDS isn't statistically significant:  WilcoxonResult(statistic=1519.0, pvalue=0.7655931250772526)\n"
          ],
          "name": "stdout"
        }
      ]
    },
    {
      "cell_type": "markdown",
      "metadata": {
        "id": "5NwGvfEcf0Y8",
        "colab_type": "text"
      },
      "source": [
        "## Using other clustering quality metrics"
      ]
    },
    {
      "cell_type": "code",
      "metadata": {
        "id": "efSr8WlCFUqP",
        "colab_type": "code",
        "colab": {}
      },
      "source": [
        "# helper function for outputting top1 results\n",
        "def top1stats(apriori_dissimilarity, extra_text):\n",
        "    our_top1_hits = np.sum(transfer_results.argmax(axis=0) == apriori_dissimilarity.T.argmin(axis=1))\n",
        "    N = transfer_results.shape[0]\n",
        "    print(\"Number of Wins of {}: {}, Accuracy: {:.1f}, P-value: {:.6f}\".format(\n",
        "        extra_text,\n",
        "        our_top1_hits,\n",
        "        100*our_top1_hits/N,\n",
        "        binom_test(our_top1_hits,N,1/(N-1))\n",
        "        ))"
      ],
      "execution_count": 0,
      "outputs": []
    },
    {
      "cell_type": "markdown",
      "metadata": {
        "id": "iSmFhYXwi9cn",
        "colab_type": "text"
      },
      "source": [
        "### davies_bouldin_score"
      ]
    },
    {
      "cell_type": "code",
      "metadata": {
        "id": "cC68_rnegjlF",
        "colab_type": "code",
        "colab": {}
      },
      "source": [
        "apriori_dissimilarity_db = np.ones(encodings_with_labels.shape)*(10**10)\n",
        "for i in range(encodings_with_labels.shape[0]):\n",
        "    for j in range(encodings_with_labels.shape[1]):\n",
        "        if i!=j:\n",
        "            apriori_dissimilarity_db[i, j] = davies_bouldin_score(encodings_with_labels[i, j][0],\n",
        "                                                            encodings_with_labels[i, j][1])"
      ],
      "execution_count": 0,
      "outputs": []
    },
    {
      "cell_type": "code",
      "metadata": {
        "id": "k5RE5vIeg_0z",
        "colab_type": "code",
        "outputId": "2c9f94be-53c5-44ff-af22-43f97651c8a2",
        "colab": {
          "base_uri": "https://localhost:8080/",
          "height": 50
        }
      },
      "source": [
        "print(\"MRR of our method with davies_bouldin_score: \", mrr(best_source, apriori_dissimilarity_db.T))\n",
        "top1stats(apriori_dissimilarity_db, \"our method with davies_bouldin_score\")"
      ],
      "execution_count": 0,
      "outputs": [
        {
          "output_type": "stream",
          "text": [
            "MRR of our method with davies_bouldin_score:  0.09569933999670382\n",
            "Number of Wins of our method with davies_bouldin_score: 3, Accuracy: 3.5, P-value: 0.081397\n"
          ],
          "name": "stdout"
        }
      ]
    },
    {
      "cell_type": "markdown",
      "metadata": {
        "id": "6FCKJGYmjDnU",
        "colab_type": "text"
      },
      "source": [
        "### calinski_harabasz_score"
      ]
    },
    {
      "cell_type": "code",
      "metadata": {
        "id": "72_MuDrtjDYq",
        "colab_type": "code",
        "colab": {}
      },
      "source": [
        "apriori_dissimilarity_vrc = np.ones(encodings_with_labels.shape)*(10**10)\n",
        "for i in range(encodings_with_labels.shape[0]):\n",
        "    for j in range(encodings_with_labels.shape[1]):\n",
        "        if i!=j:\n",
        "            apriori_dissimilarity_vrc[i, j] = -calinski_harabasz_score(encodings_with_labels[i, j][0],\n",
        "                                                            encodings_with_labels[i, j][1])"
      ],
      "execution_count": 0,
      "outputs": []
    },
    {
      "cell_type": "code",
      "metadata": {
        "id": "oWQPHdGzjAkP",
        "colab_type": "code",
        "outputId": "84c77559-488b-4f2f-c23c-01356cee75d0",
        "colab": {
          "base_uri": "https://localhost:8080/",
          "height": 50
        }
      },
      "source": [
        "print(\"MRR of method with calinski_harabasz_score: \", mrr(best_source, apriori_dissimilarity_vrc.T))\n",
        "top1stats(apriori_dissimilarity_vrc, \"our method with calinski_harabasz_score\")"
      ],
      "execution_count": 0,
      "outputs": [
        {
          "output_type": "stream",
          "text": [
            "MRR of method with calinski_harabasz_score:  0.06173886810954078\n",
            "Number of Wins of our method with calinski_harabasz_score: 2, Accuracy: 2.4, P-value: 0.268642\n"
          ],
          "name": "stdout"
        }
      ]
    },
    {
      "cell_type": "markdown",
      "metadata": {
        "id": "XDBqG1cfkmVt",
        "colab_type": "text"
      },
      "source": [
        "## Using other distance metrics within silhouette"
      ]
    },
    {
      "cell_type": "code",
      "metadata": {
        "id": "AsW1ix8NkmQC",
        "colab_type": "code",
        "outputId": "071e1008-d847-4fca-a336-d211f83a50e1",
        "colab": {
          "base_uri": "https://localhost:8080/",
          "height": 50
        }
      },
      "source": [
        "# may take a few minutes\n",
        "apriori_dissimilarity_euclidean = np.ones(encodings_with_labels.shape)*(10**10)\n",
        "for i in range(encodings_with_labels.shape[0]):\n",
        "    for j in range(encodings_with_labels.shape[1]):\n",
        "        if i!=j:\n",
        "            apriori_dissimilarity_euclidean[i, j] = -silhouette_score(encodings_with_labels[i, j][0],\n",
        "                                                            encodings_with_labels[i, j][1], metric=\"euclidean\")\n",
        "print(\"MRR of method with silhouette with euclidean: \", mrr(best_source, apriori_dissimilarity_euclidean.T))\n",
        "top1stats(apriori_dissimilarity_euclidean, \"our method with euclidean\")"
      ],
      "execution_count": 0,
      "outputs": [
        {
          "output_type": "stream",
          "text": [
            "MRR of method with silhouette with euclidean:  0.10669794129118935\n",
            "Number of Wins of our method with euclidean: 5, Accuracy: 5.9, P-value: 0.003567\n"
          ],
          "name": "stdout"
        }
      ]
    },
    {
      "cell_type": "code",
      "metadata": {
        "id": "SMCLcrO7kmHY",
        "colab_type": "code",
        "outputId": "8d6a7c47-6ed6-4807-e46f-1cb90e86a715",
        "colab": {
          "base_uri": "https://localhost:8080/",
          "height": 50
        }
      },
      "source": [
        "# may take a few minutes\n",
        "apriori_dissimilarity_manhattan = np.ones(encodings_with_labels.shape)*(10**10)\n",
        "for i in range(encodings_with_labels.shape[0]):\n",
        "    for j in range(encodings_with_labels.shape[1]):\n",
        "        if i!=j:\n",
        "            apriori_dissimilarity_manhattan[i, j] = -silhouette_score(encodings_with_labels[i, j][0],\n",
        "                                                            encodings_with_labels[i, j][1], metric=\"manhattan\")\n",
        "print(\"MRR of method with silhouette with manhattan: \", mrr(best_source, apriori_dissimilarity_manhattan.T))\n",
        "top1stats(apriori_dissimilarity_manhattan, \"our method with manhattan\")"
      ],
      "execution_count": 0,
      "outputs": [
        {
          "output_type": "stream",
          "text": [
            "MRR of method with silhouette with manhattan:  0.11024946519492677\n",
            "Number of Wins of our method with manhattan: 5, Accuracy: 5.9, P-value: 0.003567\n"
          ],
          "name": "stdout"
        }
      ]
    },
    {
      "cell_type": "code",
      "metadata": {
        "id": "FP3LvSTn-L1t",
        "colab_type": "code",
        "colab": {}
      },
      "source": [
        ""
      ],
      "execution_count": 0,
      "outputs": []
    }
  ]
}